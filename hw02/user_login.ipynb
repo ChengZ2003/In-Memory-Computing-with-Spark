{
 "cells": [
  {
   "cell_type": "code",
   "execution_count": 1,
   "id": "423add9a",
   "metadata": {},
   "outputs": [
    {
     "name": "stderr",
     "output_type": "stream",
     "text": [
      "                                                                                \r"
     ]
    },
    {
     "data": {
      "text/plain": [
       "[('Nehru', 1), ('Dane', 1), ('Walter', 1), ('Gloria', 1), ('Clarke', 1)]"
      ]
     },
     "execution_count": 1,
     "metadata": {},
     "output_type": "execute_result"
    }
   ],
   "source": [
    "from pyspark import SparkConf, SparkContext\n",
    "\n",
    "user_login = sc.textFile(\"file:///home/jkx/data/hadoop/user_login.txt\").map(\n",
    "    lambda x : x.split(\",\")\n",
    ").map(\n",
    "    lambda x : (x[0], 1)\n",
    ")\n",
    "\n",
    "user_login.take(5)"
   ]
  },
  {
   "cell_type": "code",
   "execution_count": 2,
   "id": "8ff55526",
   "metadata": {},
   "outputs": [
    {
     "name": "stderr",
     "output_type": "stream",
     "text": [
      "                                                                                \r"
     ]
    },
    {
     "data": {
      "text/plain": [
       "[('Dane', 1143),\n",
       " ('Walter', 1267),\n",
       " ('Clarke', 1168),\n",
       " ('Kevyn', 1177),\n",
       " ('Calista', 1149)]"
      ]
     },
     "execution_count": 2,
     "metadata": {},
     "output_type": "execute_result"
    }
   ],
   "source": [
    "res = user_login.reduceByKey(\n",
    "    lambda x, y : x + y\n",
    ")\n",
    "\n",
    "res.take(5)"
   ]
  },
  {
   "cell_type": "code",
   "execution_count": 3,
   "id": "23c56657",
   "metadata": {},
   "outputs": [
    {
     "data": {
      "text/plain": [
       "[('Raymond', 3559),\n",
       " ('Lee', 2127),\n",
       " ('Cameron', 2087),\n",
       " ('Kelly', 2082),\n",
       " ('Jordan', 2077)]"
      ]
     },
     "execution_count": 3,
     "metadata": {},
     "output_type": "execute_result"
    }
   ],
   "source": [
    "sorted_res = res.sortBy(\n",
    "    lambda x : x[1],\n",
    "    False,\n",
    "    1\n",
    ")\n",
    "\n",
    "sorted_res.take(5)"
   ]
  },
  {
   "cell_type": "code",
   "execution_count": 4,
   "id": "0cb65faa",
   "metadata": {},
   "outputs": [],
   "source": [
    "sorted_res.repartition(1).saveAsTextFile(\"file:///home/jkx/result\")"
   ]
  },
  {
   "cell_type": "code",
   "execution_count": null,
   "id": "f5b2fdcd",
   "metadata": {},
   "outputs": [],
   "source": []
  }
 ],
 "metadata": {
  "kernelspec": {
   "display_name": "Python 3 (ipykernel)",
   "language": "python",
   "name": "python3"
  },
  "language_info": {
   "codemirror_mode": {
    "name": "ipython",
    "version": 3
   },
   "file_extension": ".py",
   "mimetype": "text/x-python",
   "name": "python",
   "nbconvert_exporter": "python",
   "pygments_lexer": "ipython3",
   "version": "3.8.10"
  }
 },
 "nbformat": 4,
 "nbformat_minor": 5
}
